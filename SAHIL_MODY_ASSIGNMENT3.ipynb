{
 "cells": [
  {
   "cell_type": "code",
   "execution_count": 1,
   "metadata": {},
   "outputs": [],
   "source": [
    "#First Name: Sahil Mahendra\n",
    "#Last Name: Mody\n",
    "#Cwid: 20007262\n",
    "#Assignment No: 3"
   ]
  },
  {
   "cell_type": "code",
   "execution_count": 2,
   "metadata": {},
   "outputs": [],
   "source": [
    "from IPython.core.interactiveshell import InteractiveShell\n",
    "InteractiveShell.ast_node_interactivity = \"all\"\n",
    "\n",
    "import re\n",
    "import numpy as np\n",
    "import networkx as nx\n",
    "import pandas as pd\n",
    "import matplotlib.pyplot as plt\n",
    "from matplotlib.pyplot import figure\n",
    "import tweepy\n",
    "import datetime\n",
    "import time\n"
   ]
  },
  {
   "cell_type": "code",
   "execution_count": 3,
   "metadata": {},
   "outputs": [],
   "source": [
    "#accounts are\n",
    "accounts=['walmart','tysonfoods','republicservice','onsemi','amkortechnology','cbre','smartfinal','google','ebay','intuit','intel','paypal','oracle','netflix','target']\n",
    "#creating dataframe\n",
    "data = pd.DataFrame(columns = accounts, index = accounts)\n",
    "\n",
    "def get_follow(accounts):\n",
    "    CONSUMER_KEY='RyvKQwbnAvmGHQYDTotAxPMVy'\n",
    "    CONSUMER_SECRET='F6zsLRMOzKk0W9reTWMjb6QzZHmquxgM8wCm6VV9EyDQoc7WzU'\n",
    "    ACCESS_KEY='1489042232346910721-WINDCLQt44GFQ8Lb9njqLTxbf6mVoy'\n",
    "    ACCESS_SECRET='diu8GeMQwzT5NBgPuONLmIkLQQhgcIMvrg0NGXkW9CjWF'\n",
    "    auth=tweepy.OAuthHandler(CONSUMER_KEY,CONSUMER_SECRET)\n",
    "    auth.set_access_token(ACCESS_KEY,ACCESS_SECRET)\n",
    "    api=tweepy.API(auth,wait_on_rate_limit=True)\n",
    "    for i in accounts:\n",
    "        for j in accounts:\n",
    "            following = api.get_friendship(source_screen_name = i, target_screen_name = j)\n",
    "            friends = following[1].following\n",
    "            data.loc[i,j] = friends\n",
    "    return data\n",
    "\n"
   ]
  },
  {
   "cell_type": "code",
   "execution_count": null,
   "metadata": {},
   "outputs": [
    {
     "name": "stderr",
     "output_type": "stream",
     "text": [
      "Rate limit reached. Sleeping for: 744\n",
      "Rate limit reached. Sleeping for: 865\n",
      "Rate limit reached. Sleeping for: 863\n"
     ]
    }
   ],
   "source": [
    "# test the function with the list of accounts\n",
    "\n",
    "accounts=['walmart',\n",
    " 'tysonfoods',\n",
    " 'republicservice',\n",
    " 'onsemi',\n",
    " 'amkortechnology',\n",
    " 'cbre',\n",
    " 'smartfinal',\n",
    " 'google',\n",
    " 'ebay',\n",
    " 'intuit',\n",
    " 'intel',\n",
    " 'paypal',\n",
    " 'oracle',\n",
    " 'netflix',\n",
    "  'target']\n",
    "\n",
    "get_follow(accounts)\n"
   ]
  },
  {
   "cell_type": "code",
   "execution_count": null,
   "metadata": {},
   "outputs": [],
   "source": [
    "data1 = data.astype(int)\n",
    "data1\n",
    "data1_long = data1.reset_index().melt(id_vars = 'index', var_name = 'to', value_name = 'weights')\n",
    "data_long = data1_long[data1_long['weights'] != 0]\n",
    "G = nx.convert_matrix.from_pandas_edgelist(data_long, source = 'index', target = 'to', edge_attr = 'weights', create_using = nx.DiGraph())\n",
    "print('number of edges: {}'.format(G.number_of_edges()))\n",
    "print('number of nodes: {}'.format(G.number_of_nodes()))\n",
    "figure(figsize=(16,12), dpi=400)\n",
    "node_size= [x * 2000 for x in nx.degree_centrality(G).values()]\n",
    "edge_color = 'green'\n",
    "pos=nx.kamada_kawai_layout(G)\n",
    "arrowsize = 30\n",
    "arrowstyle = \"<->\"\n",
    "#node_color= [nodelist.loc[i][3] for i in G.nodes]\n",
    "nx.drawing.nx_pylab.draw_networkx(G,node_size = node_size,pos=pos,arrowstyle= arrowstyle,arrowsize=arrowsize,edge_color=edge_color,with_labels=True, width = 2)\n",
    "plt.title('The follower-followee network of Fortune companies')\n",
    "plt.axis('off')\n",
    "plt.show()"
   ]
  },
  {
   "cell_type": "code",
   "execution_count": null,
   "metadata": {},
   "outputs": [],
   "source": [
    "m = nx.in_degree_centrality(G)\n",
    "print(\"Centrality:\\n\",m)\n",
    "\n",
    "# calculate constraint\n",
    "n = nx.constraint(G)\n",
    "print(\"\\nConstraint:\\n\",n)\n",
    "\n",
    "# get the top accounts\n",
    "max_key = max(m, key=m.get)\n",
    "print(\"\\n\",max_key)\n",
    "\n",
    "min_key = min(n, key=n.get)\n",
    "print(\"\\n\",min_key)\n"
   ]
  },
  {
   "cell_type": "code",
   "execution_count": null,
   "metadata": {},
   "outputs": [],
   "source": []
  },
  {
   "cell_type": "code",
   "execution_count": null,
   "metadata": {},
   "outputs": [],
   "source": []
  },
  {
   "cell_type": "code",
   "execution_count": null,
   "metadata": {},
   "outputs": [],
   "source": []
  }
 ],
 "metadata": {
  "kernelspec": {
   "display_name": "Python 3",
   "language": "python",
   "name": "python3"
  },
  "language_info": {
   "codemirror_mode": {
    "name": "ipython",
    "version": 3
   },
   "file_extension": ".py",
   "mimetype": "text/x-python",
   "name": "python",
   "nbconvert_exporter": "python",
   "pygments_lexer": "ipython3",
   "version": "3.8.5"
  }
 },
 "nbformat": 4,
 "nbformat_minor": 4
}
